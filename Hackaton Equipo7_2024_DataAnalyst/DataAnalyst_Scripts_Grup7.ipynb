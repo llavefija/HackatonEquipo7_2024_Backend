{
 "cells": [
  {
   "cell_type": "markdown",
   "metadata": {},
   "source": [
    "## DATA ANALYST GRUP 7 REPTE TURISME"
   ]
  },
  {
   "cell_type": "markdown",
   "metadata": {},
   "source": [
    "#### CONEXIÓ"
   ]
  },
  {
   "cell_type": "code",
   "execution_count": 71,
   "metadata": {},
   "outputs": [],
   "source": [
    "import requests\n",
    "import pandas as pd\n",
    "import numpy as np\n",
    "import matplotlib.pyplot as plt\n",
    "import seaborn as sns\n",
    "from datetime import date, time, datetime\n",
    "import pymysql\n",
    "\n",
    "df_2023_1s = pd.read_csv(\"C:/Users/ueret/OneDrive/Escritorio/HACKATÓ/Dataset/2023_1S_XarxaSoroll_EqMonitor_Dades_1Hora.csv\")\n",
    "df_2023_2s = pd.read_csv(\"C:/Users/ueret/OneDrive/Escritorio/HACKATÓ/Dataset/2023_2S_XarxaSoroll_EqMonitor_Dades_1Hora.csv\")\n",
    "df_2022_1s = pd.read_csv(\"C:/Users/ueret/OneDrive/Escritorio/HACKATÓ/Dataset/2022_1S_XarxaSoroll_EqMonitor_Dades_1Hora.csv\")\n",
    "df_2022_2s = pd.read_csv(\"C:/Users/ueret/OneDrive/Escritorio/HACKATÓ/Dataset/2022_2S_XarxaSoroll_EqMonitor_Dades_1Hora.csv\")\n",
    "df_2021_1s = pd.read_csv(\"C:/Users/ueret/OneDrive/Escritorio/HACKATÓ/Dataset/2021_1S_XarxaSoroll_EqMonitor_Dades_1Hora.csv\")\n",
    "df_2021_2s = pd.read_csv(\"C:/Users/ueret/OneDrive/Escritorio/HACKATÓ/Dataset/2021_2S_XarxaSoroll_EqMonitor_Dades_1Hora.csv\")"
   ]
  },
  {
   "cell_type": "code",
   "execution_count": 72,
   "metadata": {},
   "outputs": [
    {
     "data": {
      "text/html": [
       "<div>\n",
       "<style scoped>\n",
       "    .dataframe tbody tr th:only-of-type {\n",
       "        vertical-align: middle;\n",
       "    }\n",
       "\n",
       "    .dataframe tbody tr th {\n",
       "        vertical-align: top;\n",
       "    }\n",
       "\n",
       "    .dataframe thead th {\n",
       "        text-align: right;\n",
       "    }\n",
       "</style>\n",
       "<table border=\"1\" class=\"dataframe\">\n",
       "  <thead>\n",
       "    <tr style=\"text-align: right;\">\n",
       "      <th></th>\n",
       "      <th>Any</th>\n",
       "      <th>Mes</th>\n",
       "      <th>Dia</th>\n",
       "      <th>Hora</th>\n",
       "      <th>Id_Instal</th>\n",
       "      <th>Nivell_LAeq_1h</th>\n",
       "    </tr>\n",
       "  </thead>\n",
       "  <tbody>\n",
       "    <tr>\n",
       "      <th>0</th>\n",
       "      <td>2023</td>\n",
       "      <td>5</td>\n",
       "      <td>9</td>\n",
       "      <td>15:00</td>\n",
       "      <td>8026</td>\n",
       "      <td>63.4</td>\n",
       "    </tr>\n",
       "    <tr>\n",
       "      <th>1</th>\n",
       "      <td>2023</td>\n",
       "      <td>5</td>\n",
       "      <td>9</td>\n",
       "      <td>16:00</td>\n",
       "      <td>8026</td>\n",
       "      <td>68.7</td>\n",
       "    </tr>\n",
       "    <tr>\n",
       "      <th>2</th>\n",
       "      <td>2023</td>\n",
       "      <td>5</td>\n",
       "      <td>9</td>\n",
       "      <td>17:00</td>\n",
       "      <td>8026</td>\n",
       "      <td>60.1</td>\n",
       "    </tr>\n",
       "    <tr>\n",
       "      <th>3</th>\n",
       "      <td>2023</td>\n",
       "      <td>5</td>\n",
       "      <td>9</td>\n",
       "      <td>18:00</td>\n",
       "      <td>8026</td>\n",
       "      <td>61.2</td>\n",
       "    </tr>\n",
       "    <tr>\n",
       "      <th>4</th>\n",
       "      <td>2023</td>\n",
       "      <td>5</td>\n",
       "      <td>9</td>\n",
       "      <td>19:00</td>\n",
       "      <td>8026</td>\n",
       "      <td>60.7</td>\n",
       "    </tr>\n",
       "  </tbody>\n",
       "</table>\n",
       "</div>"
      ],
      "text/plain": [
       "    Any  Mes  Dia   Hora  Id_Instal  Nivell_LAeq_1h\n",
       "0  2023    5    9  15:00       8026            63.4\n",
       "1  2023    5    9  16:00       8026            68.7\n",
       "2  2023    5    9  17:00       8026            60.1\n",
       "3  2023    5    9  18:00       8026            61.2\n",
       "4  2023    5    9  19:00       8026            60.7"
      ]
     },
     "execution_count": 72,
     "metadata": {},
     "output_type": "execute_result"
    }
   ],
   "source": [
    "df_2023_1s.head()\n"
   ]
  },
  {
   "cell_type": "code",
   "execution_count": 73,
   "metadata": {},
   "outputs": [
    {
     "data": {
      "text/html": [
       "<div>\n",
       "<style scoped>\n",
       "    .dataframe tbody tr th:only-of-type {\n",
       "        vertical-align: middle;\n",
       "    }\n",
       "\n",
       "    .dataframe tbody tr th {\n",
       "        vertical-align: top;\n",
       "    }\n",
       "\n",
       "    .dataframe thead th {\n",
       "        text-align: right;\n",
       "    }\n",
       "</style>\n",
       "<table border=\"1\" class=\"dataframe\">\n",
       "  <thead>\n",
       "    <tr style=\"text-align: right;\">\n",
       "      <th></th>\n",
       "      <th>Any</th>\n",
       "      <th>Mes</th>\n",
       "      <th>Dia</th>\n",
       "      <th>Hora</th>\n",
       "      <th>Id_Instal</th>\n",
       "      <th>Nivell_LAeq_1h</th>\n",
       "    </tr>\n",
       "  </thead>\n",
       "  <tbody>\n",
       "    <tr>\n",
       "      <th>0</th>\n",
       "      <td>2021</td>\n",
       "      <td>2</td>\n",
       "      <td>3</td>\n",
       "      <td>10:00</td>\n",
       "      <td>5207</td>\n",
       "      <td>72.4</td>\n",
       "    </tr>\n",
       "    <tr>\n",
       "      <th>1</th>\n",
       "      <td>2021</td>\n",
       "      <td>2</td>\n",
       "      <td>3</td>\n",
       "      <td>11:00</td>\n",
       "      <td>5207</td>\n",
       "      <td>63.5</td>\n",
       "    </tr>\n",
       "    <tr>\n",
       "      <th>2</th>\n",
       "      <td>2021</td>\n",
       "      <td>2</td>\n",
       "      <td>3</td>\n",
       "      <td>12:00</td>\n",
       "      <td>5207</td>\n",
       "      <td>63.0</td>\n",
       "    </tr>\n",
       "    <tr>\n",
       "      <th>3</th>\n",
       "      <td>2021</td>\n",
       "      <td>2</td>\n",
       "      <td>3</td>\n",
       "      <td>13:00</td>\n",
       "      <td>5207</td>\n",
       "      <td>62.8</td>\n",
       "    </tr>\n",
       "    <tr>\n",
       "      <th>4</th>\n",
       "      <td>2021</td>\n",
       "      <td>2</td>\n",
       "      <td>3</td>\n",
       "      <td>14:00</td>\n",
       "      <td>5207</td>\n",
       "      <td>61.5</td>\n",
       "    </tr>\n",
       "  </tbody>\n",
       "</table>\n",
       "</div>"
      ],
      "text/plain": [
       "    Any  Mes  Dia   Hora  Id_Instal  Nivell_LAeq_1h\n",
       "0  2021    2    3  10:00       5207            72.4\n",
       "1  2021    2    3  11:00       5207            63.5\n",
       "2  2021    2    3  12:00       5207            63.0\n",
       "3  2021    2    3  13:00       5207            62.8\n",
       "4  2021    2    3  14:00       5207            61.5"
      ]
     },
     "execution_count": 73,
     "metadata": {},
     "output_type": "execute_result"
    }
   ],
   "source": [
    "df_2021.head()"
   ]
  },
  {
   "cell_type": "code",
   "execution_count": 74,
   "metadata": {},
   "outputs": [],
   "source": [
    "df_2021 = pd.concat([df_2021_1s, df_2021_2s], ignore_index=True)\n",
    "df_2022 = pd.concat([df_2022_1s, df_2022_2s], ignore_index=True)\n",
    "df_2023 = pd.concat([df_2023_1s, df_2023_2s], ignore_index=True)"
   ]
  },
  {
   "cell_type": "code",
   "execution_count": 83,
   "metadata": {},
   "outputs": [],
   "source": [
    "valors_id_instal = [6756,5766,497,7306,7506,6306,6886,7567,6026]  # Substitueix amb els valors que necessitis\n",
    "\n",
    "# Filtrar el dataframe per obtenir només les files amb els valors especificats\n",
    "df_2023_filtrat_llocs = df_2023[df_2023['Id_Instal'].isin(valors_id_instal)]\n",
    "df_2022_filtrat_llocs = df_2022[df_2022['Id_Instal'].isin(valors_id_instal)]\n",
    "df_2021_filtrat_llocs = df_2021[df_2021['Id_Instal'].isin(valors_id_instal)]"
   ]
  },
  {
   "cell_type": "markdown",
   "metadata": {},
   "source": [
    "FEM LA NETEJA ABANS DE SEGUIR AMB LA CIMPILACIÓ DEL DF FINAL"
   ]
  },
  {
   "cell_type": "code",
   "execution_count": 76,
   "metadata": {},
   "outputs": [
    {
     "name": "stdout",
     "output_type": "stream",
     "text": [
      "<class 'pandas.core.frame.DataFrame'>\n",
      "Index: 68623 entries, 111384 to 1279125\n",
      "Data columns (total 6 columns):\n",
      " #   Column          Non-Null Count  Dtype  \n",
      "---  ------          --------------  -----  \n",
      " 0   Any             68623 non-null  int64  \n",
      " 1   Mes             68623 non-null  int64  \n",
      " 2   Dia             68623 non-null  int64  \n",
      " 3   Hora            68623 non-null  object \n",
      " 4   Id_Instal       68623 non-null  int64  \n",
      " 5   Nivell_LAeq_1h  68623 non-null  float64\n",
      "dtypes: float64(1), int64(4), object(1)\n",
      "memory usage: 3.7+ MB\n"
     ]
    }
   ],
   "source": [
    "#df_2023_filtrat_llocs.isnull().sum()\n",
    "#(df_2023_filtrat_llocs == '').sum()\n",
    "\n",
    "df_2023_filtrat_llocs.info()"
   ]
  },
  {
   "cell_type": "code",
   "execution_count": 85,
   "metadata": {},
   "outputs": [
    {
     "name": "stdout",
     "output_type": "stream",
     "text": [
      "<class 'pandas.core.frame.DataFrame'>\n",
      "Index: 46482 entries, 119400 to 1085454\n",
      "Data columns (total 6 columns):\n",
      " #   Column          Non-Null Count  Dtype  \n",
      "---  ------          --------------  -----  \n",
      " 0   Any             46482 non-null  int64  \n",
      " 1   Mes             46482 non-null  int64  \n",
      " 2   Dia             46482 non-null  int64  \n",
      " 3   Hora            46482 non-null  object \n",
      " 4   Id_Instal       46482 non-null  int64  \n",
      " 5   Nivell_LAeq_1h  46482 non-null  float64\n",
      "dtypes: float64(1), int64(4), object(1)\n",
      "memory usage: 2.5+ MB\n"
     ]
    }
   ],
   "source": [
    "#df_2022_filtrat_llocs.isnull().sum()\n",
    "#(df_2022_filtrat_llocs == '').sum()\n",
    "\n",
    "df_2022_filtrat_llocs.info()"
   ]
  },
  {
   "cell_type": "code",
   "execution_count": 86,
   "metadata": {},
   "outputs": [
    {
     "name": "stdout",
     "output_type": "stream",
     "text": [
      "<class 'pandas.core.frame.DataFrame'>\n",
      "RangeIndex: 1016794 entries, 0 to 1016793\n",
      "Data columns (total 6 columns):\n",
      " #   Column          Non-Null Count    Dtype  \n",
      "---  ------          --------------    -----  \n",
      " 0   Any             1016794 non-null  int64  \n",
      " 1   Mes             1016794 non-null  int64  \n",
      " 2   Dia             1016794 non-null  int64  \n",
      " 3   Hora            1016794 non-null  object \n",
      " 4   Id_Instal       1016794 non-null  int64  \n",
      " 5   Nivell_LAeq_1h  1016794 non-null  float64\n",
      "dtypes: float64(1), int64(4), object(1)\n",
      "memory usage: 46.5+ MB\n"
     ]
    }
   ],
   "source": [
    "#df_2021_filtrat_llocs.isnull().sum()\n",
    "#(df_2021_filtrat_llocs == '').sum()\n",
    "\n",
    "df_2021.info()"
   ]
  },
  {
   "cell_type": "code",
   "execution_count": 87,
   "metadata": {},
   "outputs": [
    {
     "data": {
      "text/html": [
       "<div>\n",
       "<style scoped>\n",
       "    .dataframe tbody tr th:only-of-type {\n",
       "        vertical-align: middle;\n",
       "    }\n",
       "\n",
       "    .dataframe tbody tr th {\n",
       "        vertical-align: top;\n",
       "    }\n",
       "\n",
       "    .dataframe thead th {\n",
       "        text-align: right;\n",
       "    }\n",
       "</style>\n",
       "<table border=\"1\" class=\"dataframe\">\n",
       "  <thead>\n",
       "    <tr style=\"text-align: right;\">\n",
       "      <th></th>\n",
       "      <th>Any</th>\n",
       "      <th>Mes</th>\n",
       "      <th>Dia</th>\n",
       "      <th>Id_Instal</th>\n",
       "      <th>Nivell_LAeq_1h</th>\n",
       "    </tr>\n",
       "  </thead>\n",
       "  <tbody>\n",
       "    <tr>\n",
       "      <th>count</th>\n",
       "      <td>77360.0</td>\n",
       "      <td>77360.000000</td>\n",
       "      <td>77360.000000</td>\n",
       "      <td>77360.000000</td>\n",
       "      <td>77360.000000</td>\n",
       "    </tr>\n",
       "    <tr>\n",
       "      <th>mean</th>\n",
       "      <td>2023.0</td>\n",
       "      <td>6.494997</td>\n",
       "      <td>15.612603</td>\n",
       "      <td>6067.006502</td>\n",
       "      <td>62.514952</td>\n",
       "    </tr>\n",
       "    <tr>\n",
       "      <th>std</th>\n",
       "      <td>0.0</td>\n",
       "      <td>3.435809</td>\n",
       "      <td>8.793110</td>\n",
       "      <td>2059.917840</td>\n",
       "      <td>5.974678</td>\n",
       "    </tr>\n",
       "    <tr>\n",
       "      <th>min</th>\n",
       "      <td>2023.0</td>\n",
       "      <td>1.000000</td>\n",
       "      <td>1.000000</td>\n",
       "      <td>497.000000</td>\n",
       "      <td>34.700000</td>\n",
       "    </tr>\n",
       "    <tr>\n",
       "      <th>25%</th>\n",
       "      <td>2023.0</td>\n",
       "      <td>4.000000</td>\n",
       "      <td>8.000000</td>\n",
       "      <td>6026.000000</td>\n",
       "      <td>59.500000</td>\n",
       "    </tr>\n",
       "    <tr>\n",
       "      <th>50%</th>\n",
       "      <td>2023.0</td>\n",
       "      <td>7.000000</td>\n",
       "      <td>16.000000</td>\n",
       "      <td>6756.000000</td>\n",
       "      <td>62.900000</td>\n",
       "    </tr>\n",
       "    <tr>\n",
       "      <th>75%</th>\n",
       "      <td>2023.0</td>\n",
       "      <td>9.000000</td>\n",
       "      <td>23.000000</td>\n",
       "      <td>7306.000000</td>\n",
       "      <td>66.400000</td>\n",
       "    </tr>\n",
       "    <tr>\n",
       "      <th>max</th>\n",
       "      <td>2023.0</td>\n",
       "      <td>12.000000</td>\n",
       "      <td>31.000000</td>\n",
       "      <td>7567.000000</td>\n",
       "      <td>95.700000</td>\n",
       "    </tr>\n",
       "  </tbody>\n",
       "</table>\n",
       "</div>"
      ],
      "text/plain": [
       "           Any           Mes           Dia     Id_Instal  Nivell_LAeq_1h\n",
       "count  77360.0  77360.000000  77360.000000  77360.000000    77360.000000\n",
       "mean    2023.0      6.494997     15.612603   6067.006502       62.514952\n",
       "std        0.0      3.435809      8.793110   2059.917840        5.974678\n",
       "min     2023.0      1.000000      1.000000    497.000000       34.700000\n",
       "25%     2023.0      4.000000      8.000000   6026.000000       59.500000\n",
       "50%     2023.0      7.000000     16.000000   6756.000000       62.900000\n",
       "75%     2023.0      9.000000     23.000000   7306.000000       66.400000\n",
       "max     2023.0     12.000000     31.000000   7567.000000       95.700000"
      ]
     },
     "execution_count": 87,
     "metadata": {},
     "output_type": "execute_result"
    }
   ],
   "source": [
    "df_2023_filtrat_llocs.describe()\n"
   ]
  },
  {
   "cell_type": "markdown",
   "metadata": {},
   "source": [
    "Al 2021 veiem que no hi ha cap dels punts d'escolta escollits.\n",
    "Ens n'adonem que el dataset original no es tan complert com pensavem. Els punts d'escolta van caducant i apareixent constanment.\n",
    "\n",
    "Per això abandonem la idea de fer una mitjana de les escoltes del últims anys i triem altres punts que estiguin presents durant tot el 2023 per poder tenir dades de tot l'any i predir el nivell de soroll en qualsevol dia de l'any a les zones triades."
   ]
  },
  {
   "cell_type": "code",
   "execution_count": 84,
   "metadata": {},
   "outputs": [],
   "source": [
    "df_2022_filtrat_llocs.to_csv(\"C:/Users/ueret/OneDrive/Escritorio/HACKATÓ/Dataset/df_2022.csv\", index=False)"
   ]
  },
  {
   "cell_type": "markdown",
   "metadata": {},
   "source": [
    "Continuem a Power Bi per fer les mesures i la categorització ponderada per cada punt de les lectures de soroll."
   ]
  }
 ],
 "metadata": {
  "kernelspec": {
   "display_name": "Python 3",
   "language": "python",
   "name": "python3"
  },
  "language_info": {
   "codemirror_mode": {
    "name": "ipython",
    "version": 3
   },
   "file_extension": ".py",
   "mimetype": "text/x-python",
   "name": "python",
   "nbconvert_exporter": "python",
   "pygments_lexer": "ipython3",
   "version": "3.11.9"
  }
 },
 "nbformat": 4,
 "nbformat_minor": 2
}
